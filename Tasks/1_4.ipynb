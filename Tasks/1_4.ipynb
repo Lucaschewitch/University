{
  "nbformat": 4,
  "nbformat_minor": 0,
  "metadata": {
    "colab": {
      "provenance": [],
      "authorship_tag": "ABX9TyPnI5UetsKbNQLIj0bZS+On",
      "include_colab_link": true
    },
    "kernelspec": {
      "name": "python3",
      "display_name": "Python 3"
    },
    "language_info": {
      "name": "python"
    }
  },
  "cells": [
    {
      "cell_type": "markdown",
      "metadata": {
        "id": "view-in-github",
        "colab_type": "text"
      },
      "source": [
        "<a href=\"https://colab.research.google.com/github/Lucaschewitch/University/blob/main/Tasks/1_4.ipynb\" target=\"_parent\"><img src=\"https://colab.research.google.com/assets/colab-badge.svg\" alt=\"Open In Colab\"/></a>"
      ]
    },
    {
      "cell_type": "code",
      "execution_count": 16,
      "metadata": {
        "id": "9qWZn20LcjbR",
        "outputId": "fcd69fe5-afcd-4fe8-e8c9-592ae21fcb45",
        "colab": {
          "base_uri": "https://localhost:8080/"
        }
      },
      "outputs": [
        {
          "output_type": "stream",
          "name": "stdout",
          "text": [
            "179\n",
            "Следующее число: 180\n",
            "Предыдущее число: 178\n"
          ]
        }
      ],
      "source": [
        "a = int(input())\n",
        "print(f'Следующее число: {a+1}')\n",
        "print(f'Предыдущее число: {a-1}')"
      ]
    }
  ]
}