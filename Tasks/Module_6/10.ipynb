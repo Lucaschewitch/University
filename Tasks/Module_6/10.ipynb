{
  "nbformat": 4,
  "nbformat_minor": 0,
  "metadata": {
    "colab": {
      "provenance": [],
      "authorship_tag": "ABX9TyN/ClVEcUoPL6ilGpZbRc3K",
      "include_colab_link": true
    },
    "kernelspec": {
      "name": "python3",
      "display_name": "Python 3"
    },
    "language_info": {
      "name": "python"
    }
  },
  "cells": [
    {
      "cell_type": "markdown",
      "metadata": {
        "id": "view-in-github",
        "colab_type": "text"
      },
      "source": [
        "<a href=\"https://colab.research.google.com/github/Lucaschewitch/University/blob/main/Tasks/Module_6/10.ipynb\" target=\"_parent\"><img src=\"https://colab.research.google.com/assets/colab-badge.svg\" alt=\"Open In Colab\"/></a>"
      ]
    },
    {
      "cell_type": "code",
      "execution_count": 12,
      "metadata": {
        "id": "9qWZn20LcjbR",
        "outputId": "098b7d8f-27ec-4616-8ec5-92e0cdb72237",
        "colab": {
          "base_uri": "https://localhost:8080/"
        }
      },
      "outputs": [
        {
          "output_type": "stream",
          "name": "stdout",
          "text": [
            "рташщгыпршващп\n",
            "пршващпрташщгы\n"
          ]
        }
      ],
      "source": [
        "i = input()\n",
        "l = i.find('h')\n",
        "r = i.rfind('h')\n",
        "print(i[0:l] + i[r + 1 : len(i)])"
      ]
    }
  ]
}