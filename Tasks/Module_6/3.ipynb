{
  "nbformat": 4,
  "nbformat_minor": 0,
  "metadata": {
    "colab": {
      "provenance": [],
      "authorship_tag": "ABX9TyNUCaQZR2WNN0bOt3n85Oe2",
      "include_colab_link": true
    },
    "kernelspec": {
      "name": "python3",
      "display_name": "Python 3"
    },
    "language_info": {
      "name": "python"
    }
  },
  "cells": [
    {
      "cell_type": "markdown",
      "metadata": {
        "id": "view-in-github",
        "colab_type": "text"
      },
      "source": [
        "<a href=\"https://colab.research.google.com/github/Lucaschewitch/University/blob/main/Tasks/Module_6/3.ipynb\" target=\"_parent\"><img src=\"https://colab.research.google.com/assets/colab-badge.svg\" alt=\"Open In Colab\"/></a>"
      ]
    },
    {
      "cell_type": "code",
      "execution_count": 18,
      "metadata": {
        "id": "9qWZn20LcjbR",
        "outputId": "3a59fbbc-5ce2-4610-cf13-37a3a1303588",
        "colab": {
          "base_uri": "https://localhost:8080/"
        }
      },
      "outputs": [
        {
          "output_type": "stream",
          "name": "stdout",
          "text": [
            "1 2 3 4\n",
            "2 1 4 3 \n"
          ]
        }
      ],
      "source": [
        "lst1 = ''\n",
        "lst = [int(a) for a in input().split()]\n",
        "for i in range(0, len(lst)-1,2):\n",
        "  lst1 = lst1 +  str(lst[i+1]) + ' ' + str(lst[i]) + ' '\n",
        "if len(lst) % 2 == 0:\n",
        "  print(lst1)\n",
        "else:\n",
        "  print(lst1 + str(lst[-1]))\n",
        ""
      ]
    }
  ]
}