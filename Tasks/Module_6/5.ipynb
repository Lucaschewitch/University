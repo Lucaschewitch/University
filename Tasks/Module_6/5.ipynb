{
  "nbformat": 4,
  "nbformat_minor": 0,
  "metadata": {
    "colab": {
      "provenance": [],
      "authorship_tag": "ABX9TyPc9bEQ3Ds5JYlb4o8Esm4h",
      "include_colab_link": true
    },
    "kernelspec": {
      "name": "python3",
      "display_name": "Python 3"
    },
    "language_info": {
      "name": "python"
    }
  },
  "cells": [
    {
      "cell_type": "markdown",
      "metadata": {
        "id": "view-in-github",
        "colab_type": "text"
      },
      "source": [
        "<a href=\"https://colab.research.google.com/github/Lucaschewitch/University/blob/main/Tasks/Module_6/5.ipynb\" target=\"_parent\"><img src=\"https://colab.research.google.com/assets/colab-badge.svg\" alt=\"Open In Colab\"/></a>"
      ]
    },
    {
      "cell_type": "code",
      "execution_count": 5,
      "metadata": {
        "id": "9qWZn20LcjbR",
        "outputId": "311c1f32-b063-403a-cc3b-83c5c47bb4b7",
        "colab": {
          "base_uri": "https://localhost:8080/"
        }
      },
      "outputs": [
        {
          "output_type": "stream",
          "name": "stdout",
          "text": [
            "1 3 2\n",
            "4 3 2\n",
            "2\n"
          ]
        }
      ],
      "source": [
        "cnt = 0\n",
        "s = [int(i) for i in input().split()]\n",
        "s1 = [int(i) for i in input().split()]\n",
        "for i in range(len(s)):\n",
        "  for n in range(len(s1)):\n",
        "    if s[i] == s1[n]:\n",
        "      s[i] = 'a'\n",
        "      s1[n] = 'b'\n",
        "      cnt +=1\n",
        "print(cnt)"
      ]
    }
  ]
}