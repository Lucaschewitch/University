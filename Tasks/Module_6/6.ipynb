{
  "nbformat": 4,
  "nbformat_minor": 0,
  "metadata": {
    "colab": {
      "provenance": [],
      "authorship_tag": "ABX9TyOKaWb1IkqNJoB94X2wh5FP",
      "include_colab_link": true
    },
    "kernelspec": {
      "name": "python3",
      "display_name": "Python 3"
    },
    "language_info": {
      "name": "python"
    }
  },
  "cells": [
    {
      "cell_type": "markdown",
      "metadata": {
        "id": "view-in-github",
        "colab_type": "text"
      },
      "source": [
        "<a href=\"https://colab.research.google.com/github/Lucaschewitch/University/blob/main/Tasks/Module_6/6.ipynb\" target=\"_parent\"><img src=\"https://colab.research.google.com/assets/colab-badge.svg\" alt=\"Open In Colab\"/></a>"
      ]
    },
    {
      "cell_type": "code",
      "execution_count": 8,
      "metadata": {
        "id": "9qWZn20LcjbR",
        "outputId": "969a4795-3c62-4198-a2a6-1d501562fbbc",
        "colab": {
          "base_uri": "https://localhost:8080/"
        }
      },
      "outputs": [
        {
          "output_type": "stream",
          "name": "stdout",
          "text": [
            "1 3 2\n",
            "4 3 2\n",
            " 3 2\n"
          ]
        }
      ],
      "source": [
        "cnt = ''\n",
        "s = [int(i) for i in input().split()]\n",
        "s1 = [int(i) for i in input().split()]\n",
        "for i in range(len(s)):\n",
        "  for j in range(len(s1)):\n",
        "    if s[i] == s1[j]:\n",
        "      cnt += ' ' + str(s[i])\n",
        "      s[i] = 'a'\n",
        "      s1[j] = 'b'\n",
        "print(cnt)"
      ]
    }
  ]
}