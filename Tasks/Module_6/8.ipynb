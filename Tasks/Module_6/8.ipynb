{
  "nbformat": 4,
  "nbformat_minor": 0,
  "metadata": {
    "colab": {
      "provenance": [],
      "authorship_tag": "ABX9TyNqLyJkX993Ju5UECkUEphz",
      "include_colab_link": true
    },
    "kernelspec": {
      "name": "python3",
      "display_name": "Python 3"
    },
    "language_info": {
      "name": "python"
    }
  },
  "cells": [
    {
      "cell_type": "markdown",
      "metadata": {
        "id": "view-in-github",
        "colab_type": "text"
      },
      "source": [
        "<a href=\"https://colab.research.google.com/github/Lucaschewitch/University/blob/main/Tasks/Module_6/8.ipynb\" target=\"_parent\"><img src=\"https://colab.research.google.com/assets/colab-badge.svg\" alt=\"Open In Colab\"/></a>"
      ]
    },
    {
      "cell_type": "code",
      "execution_count": 11,
      "metadata": {
        "id": "9qWZn20LcjbR",
        "outputId": "3c043903-d83a-406d-8b5d-10719b9ffbd1",
        "colab": {
          "base_uri": "https://localhost:8080/"
        }
      },
      "outputs": [
        {
          "output_type": "stream",
          "name": "stdout",
          "text": [
            "Abrakadabra\n",
            "r\n",
            "a\n",
            "Abrak\n",
            "Abrakadab\n",
            "Arkdba\n",
            "baaar\n",
            "arbadakarbA\n",
            "Aabdkr\n"
          ]
        }
      ],
      "source": [
        "i = input()\n",
        "a = set()\n",
        "print(i[2])\n",
        "print(i[-1])\n",
        "print(i[0:5:1])\n",
        "print(i[0:-2:1])\n",
        "print(i[0:len(i) + 1:2])\n",
        "print(i[1:-1:2])\n",
        "print(i[::-1])\n",
        "for n in range(len(i)):\n",
        "  a.add(i[n])\n",
        "a = list(a)\n",
        "a.sort()\n",
        "print(*a, sep='')"
      ]
    }
  ]
}