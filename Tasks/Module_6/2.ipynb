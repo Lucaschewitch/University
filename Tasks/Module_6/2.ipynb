{
  "nbformat": 4,
  "nbformat_minor": 0,
  "metadata": {
    "colab": {
      "provenance": [],
      "authorship_tag": "ABX9TyMW9HdAvnDgfv+EWs1iWFR0",
      "include_colab_link": true
    },
    "kernelspec": {
      "name": "python3",
      "display_name": "Python 3"
    },
    "language_info": {
      "name": "python"
    }
  },
  "cells": [
    {
      "cell_type": "markdown",
      "metadata": {
        "id": "view-in-github",
        "colab_type": "text"
      },
      "source": [
        "<a href=\"https://colab.research.google.com/github/Lucaschewitch/University/blob/main/Tasks/Module_6/2.ipynb\" target=\"_parent\"><img src=\"https://colab.research.google.com/assets/colab-badge.svg\" alt=\"Open In Colab\"/></a>"
      ]
    },
    {
      "cell_type": "code",
      "execution_count": 17,
      "metadata": {
        "id": "9qWZn20LcjbR",
        "outputId": "9a8e4e9b-67f5-4c70-a15a-232ee4629b68",
        "colab": {
          "base_uri": "https://localhost:8080/"
        }
      },
      "outputs": [
        {
          "output_type": "stream",
          "name": "stdout",
          "text": [
            "1 5 2 4 3\n",
            " 5 4\n"
          ]
        }
      ],
      "source": [
        "a = [int(s) for s in input().split()]\n",
        "r = ''\n",
        "for i in range(len(a)):\n",
        "  if i == 0:\n",
        "    continue\n",
        "  if int(a[i]) > int(a[i - 1]):\n",
        "    r += ' ' + str(a[i])\n",
        "print(r)"
      ]
    }
  ]
}