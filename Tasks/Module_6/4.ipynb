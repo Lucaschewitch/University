{
  "nbformat": 4,
  "nbformat_minor": 0,
  "metadata": {
    "colab": {
      "provenance": [],
      "authorship_tag": "ABX9TyOzDBteG0ULO9c8x97UNEiY",
      "include_colab_link": true
    },
    "kernelspec": {
      "name": "python3",
      "display_name": "Python 3"
    },
    "language_info": {
      "name": "python"
    }
  },
  "cells": [
    {
      "cell_type": "markdown",
      "metadata": {
        "id": "view-in-github",
        "colab_type": "text"
      },
      "source": [
        "<a href=\"https://colab.research.google.com/github/Lucaschewitch/University/blob/main/Tasks/Module_6/4.ipynb\" target=\"_parent\"><img src=\"https://colab.research.google.com/assets/colab-badge.svg\" alt=\"Open In Colab\"/></a>"
      ]
    },
    {
      "cell_type": "code",
      "execution_count": 4,
      "metadata": {
        "id": "9qWZn20LcjbR",
        "outputId": "13597628-3a75-42e8-9563-b12c2706fd5d",
        "colab": {
          "base_uri": "https://localhost:8080/"
        }
      },
      "outputs": [
        {
          "output_type": "stream",
          "name": "stdout",
          "text": [
            "1 2 3 4 5\n",
            "5 2 3 4 5\n"
          ]
        }
      ],
      "source": [
        "a = [int(s) for s in input().split()]\n",
        "mi = a.index(min(a))\n",
        "ma = a.index(max(a))\n",
        "a[mi] = a[ma]\n",
        "a[ma] = a[mi]\n",
        "print(' '.join([str(x) for x in a]))"
      ]
    }
  ]
}