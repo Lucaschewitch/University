{
  "nbformat": 4,
  "nbformat_minor": 0,
  "metadata": {
    "colab": {
      "provenance": [],
      "authorship_tag": "ABX9TyOzGrpdzNBQldQZ6KhPx4qg",
      "include_colab_link": true
    },
    "kernelspec": {
      "name": "python3",
      "display_name": "Python 3"
    },
    "language_info": {
      "name": "python"
    }
  },
  "cells": [
    {
      "cell_type": "markdown",
      "metadata": {
        "id": "view-in-github",
        "colab_type": "text"
      },
      "source": [
        "<a href=\"https://colab.research.google.com/github/Lucaschewitch/University/blob/main/Tasks/Module_6/7.ipynb\" target=\"_parent\"><img src=\"https://colab.research.google.com/assets/colab-badge.svg\" alt=\"Open In Colab\"/></a>"
      ]
    },
    {
      "cell_type": "code",
      "execution_count": 10,
      "metadata": {
        "id": "9qWZn20LcjbR",
        "outputId": "d3c994ca-a00b-472f-a5ea-6afba0d8687c",
        "colab": {
          "base_uri": "https://localhost:8080/"
        }
      },
      "outputs": [
        {
          "output_type": "stream",
          "name": "stdout",
          "text": [
            "1 2 3 2 3 4\n",
            "НЕТ\n",
            "НЕТ\n",
            "НЕТ\n",
            "ДА\n",
            "ДА\n",
            "НЕТ\n"
          ]
        }
      ],
      "source": [
        "s = [i for i in input().split()]\n",
        "s1 = ''\n",
        "for i in range(len(s)):\n",
        "  if s1.count(s[i]) == 0:\n",
        "    print('НЕТ')\n",
        "  else:\n",
        "    print(\"ДА\")\n",
        "  s1 += str(s[i])"
      ]
    }
  ]
}