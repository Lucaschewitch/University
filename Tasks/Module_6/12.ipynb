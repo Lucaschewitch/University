{
  "nbformat": 4,
  "nbformat_minor": 0,
  "metadata": {
    "colab": {
      "provenance": [],
      "authorship_tag": "ABX9TyMh8TExhvG2atYoumbBo33E",
      "include_colab_link": true
    },
    "kernelspec": {
      "name": "python3",
      "display_name": "Python 3"
    },
    "language_info": {
      "name": "python"
    }
  },
  "cells": [
    {
      "cell_type": "markdown",
      "metadata": {
        "id": "view-in-github",
        "colab_type": "text"
      },
      "source": [
        "<a href=\"https://colab.research.google.com/github/Lucaschewitch/University/blob/main/Tasks/Module_6/12.ipynb\" target=\"_parent\"><img src=\"https://colab.research.google.com/assets/colab-badge.svg\" alt=\"Open In Colab\"/></a>"
      ]
    },
    {
      "cell_type": "code",
      "execution_count": 12,
      "metadata": {
        "id": "9qWZn20LcjbR",
        "outputId": "098b7d8f-27ec-4616-8ec5-92e0cdb72237",
        "colab": {
          "base_uri": "https://localhost:8080/"
        }
      },
      "outputs": [
        {
          "output_type": "stream",
          "name": "stdout",
          "text": [
            "рташщгыпршващп\n",
            "пршващпрташщгы\n"
          ]
        }
      ],
      "source": [
        "k = []\n",
        "i = input()\n",
        "l = i.find('h')\n",
        "r = i.rfind('h')\n",
        "i = i.replace('h', 'H')\n",
        "for a in range(len(i)):\n",
        "  k.append(i[a])\n",
        "k[l] = 'h'\n",
        "k[r] = 'h'\n",
        "m = ''.join(k)\n",
        "print(m)"
      ]
    }
  ]
}