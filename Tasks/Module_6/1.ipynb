{
  "nbformat": 4,
  "nbformat_minor": 0,
  "metadata": {
    "colab": {
      "provenance": [],
      "authorship_tag": "ABX9TyMlyjKNbajXSf3qb5YatAmN",
      "include_colab_link": true
    },
    "kernelspec": {
      "name": "python3",
      "display_name": "Python 3"
    },
    "language_info": {
      "name": "python"
    }
  },
  "cells": [
    {
      "cell_type": "markdown",
      "metadata": {
        "id": "view-in-github",
        "colab_type": "text"
      },
      "source": [
        "<a href=\"https://colab.research.google.com/github/Lucaschewitch/University/blob/main/Tasks/Module_6/1.ipynb\" target=\"_parent\"><img src=\"https://colab.research.google.com/assets/colab-badge.svg\" alt=\"Open In Colab\"/></a>"
      ]
    },
    {
      "cell_type": "code",
      "execution_count": 16,
      "metadata": {
        "id": "9qWZn20LcjbR",
        "outputId": "1e39dd4a-c96d-4328-a022-2f0165c9d62d",
        "colab": {
          "base_uri": "https://localhost:8080/"
        }
      },
      "outputs": [
        {
          "output_type": "stream",
          "name": "stdout",
          "text": [
            "5 6 7 8 9\n",
            " 5 7 9\n"
          ]
        }
      ],
      "source": [
        "a = [int(s) for s in input().split()]\n",
        "r = ''\n",
        "for f in a:\n",
        "  if f % 2 != 0:\n",
        "    r += ' ' + str(f)\n",
        "\n",
        "print(r)"
      ]
    }
  ]
}