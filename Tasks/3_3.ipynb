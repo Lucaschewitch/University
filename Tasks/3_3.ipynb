{
  "nbformat": 4,
  "nbformat_minor": 0,
  "metadata": {
    "colab": {
      "provenance": [],
      "authorship_tag": "ABX9TyOWiSmsk3v61P+0mlNdBXkI",
      "include_colab_link": true
    },
    "kernelspec": {
      "name": "python3",
      "display_name": "Python 3"
    },
    "language_info": {
      "name": "python"
    }
  },
  "cells": [
    {
      "cell_type": "markdown",
      "metadata": {
        "id": "view-in-github",
        "colab_type": "text"
      },
      "source": [
        "<a href=\"https://colab.research.google.com/github/Lucaschewitch/University/blob/main/Tasks/3_3.ipynb\" target=\"_parent\"><img src=\"https://colab.research.google.com/assets/colab-badge.svg\" alt=\"Open In Colab\"/></a>"
      ]
    },
    {
      "cell_type": "code",
      "execution_count": 58,
      "metadata": {
        "id": "9qWZn20LcjbR",
        "outputId": "179f793d-cddb-4cfd-a1a3-bce00a418cdd",
        "colab": {
          "base_uri": "https://localhost:8080/"
        }
      },
      "outputs": [
        {
          "output_type": "stream",
          "name": "stdout",
          "text": [
            "office\n",
            "1 2\n"
          ]
        }
      ],
      "source": [
        "a = input()\n",
        "if a.count('f') == 1:\n",
        "    print(a.find('f'))\n",
        "elif a.count('f') >= 2:\n",
        "    print(a.find('f'), a.rfind('f'))\n",
        "else:\n",
        "  print('-1')"
      ]
    }
  ]
}