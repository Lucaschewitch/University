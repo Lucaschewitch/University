{
  "nbformat": 4,
  "nbformat_minor": 0,
  "metadata": {
    "colab": {
      "provenance": [],
      "authorship_tag": "ABX9TyP3Mek/sfrWHElHyG264XZh",
      "include_colab_link": true
    },
    "kernelspec": {
      "name": "python3",
      "display_name": "Python 3"
    },
    "language_info": {
      "name": "python"
    }
  },
  "cells": [
    {
      "cell_type": "markdown",
      "metadata": {
        "id": "view-in-github",
        "colab_type": "text"
      },
      "source": [
        "<a href=\"https://colab.research.google.com/github/Lucaschewitch/University/blob/main/Tasks/1_7.ipynb\" target=\"_parent\"><img src=\"https://colab.research.google.com/assets/colab-badge.svg\" alt=\"Open In Colab\"/></a>"
      ]
    },
    {
      "cell_type": "code",
      "execution_count": 22,
      "metadata": {
        "id": "9qWZn20LcjbR",
        "outputId": "9cbeeb74-b107-45f0-bcd1-e092d4dbc84e",
        "colab": {
          "base_uri": "https://localhost:8080/"
        }
      },
      "outputs": [
        {
          "output_type": "stream",
          "name": "stdout",
          "text": [
            "1\n",
            "1\n",
            "1\n",
            "2\n",
            "2\n",
            "2\n",
            "3661\n"
          ]
        }
      ],
      "source": [
        "a1 = int(input())\n",
        "a2 = int(input())\n",
        "a3 = int(input())\n",
        "b1 = int(input())\n",
        "b2 = int(input())\n",
        "b3 = int(input())\n",
        "a = (a1*3600 + a2*60 + a3)\n",
        "b = (b1*3600 + b2*60 + b3)\n",
        "print(b-a)"
      ]
    }
  ]
}