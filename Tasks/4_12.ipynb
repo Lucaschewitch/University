{
  "nbformat": 4,
  "nbformat_minor": 0,
  "metadata": {
    "colab": {
      "provenance": [],
      "authorship_tag": "ABX9TyOzgy9NEr+OjScbNPfc6Dbe",
      "include_colab_link": true
    },
    "kernelspec": {
      "name": "python3",
      "display_name": "Python 3"
    },
    "language_info": {
      "name": "python"
    }
  },
  "cells": [
    {
      "cell_type": "markdown",
      "metadata": {
        "id": "view-in-github",
        "colab_type": "text"
      },
      "source": [
        "<a href=\"https://colab.research.google.com/github/Lucaschewitch/University/blob/main/Tasks/4_12.ipynb\" target=\"_parent\"><img src=\"https://colab.research.google.com/assets/colab-badge.svg\" alt=\"Open In Colab\"/></a>"
      ]
    },
    {
      "cell_type": "code",
      "execution_count": 89,
      "metadata": {
        "id": "9qWZn20LcjbR",
        "outputId": "22cab4a7-a638-4777-c162-d0ed8d27ddb1",
        "colab": {
          "base_uri": "https://localhost:8080/"
        }
      },
      "outputs": [
        {
          "output_type": "stream",
          "name": "stdout",
          "text": [
            "3\n",
            "31\n",
            "1:4:2024\n"
          ]
        }
      ],
      "source": [
        "#понятия не имею, как это сделать через условие, но я разобралась с datetime (с моим интеллектом на это потребовалось много времени)\n",
        "import datetime\n",
        "m=int(input())\n",
        "d=int(input())\n",
        "nd=datetime.date(2024,m,d)+datetime.timedelta(1)\n",
        "print(f'{nd.day}:{nd.month}:2024')"
      ]
    }
  ]
}