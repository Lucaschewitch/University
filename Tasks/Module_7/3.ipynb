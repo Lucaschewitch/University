{
  "nbformat": 4,
  "nbformat_minor": 0,
  "metadata": {
    "colab": {
      "provenance": [],
      "authorship_tag": "ABX9TyPyalDjSD/QnqNPCVhkh6tc",
      "include_colab_link": true
    },
    "kernelspec": {
      "name": "python3",
      "display_name": "Python 3"
    },
    "language_info": {
      "name": "python"
    }
  },
  "cells": [
    {
      "cell_type": "markdown",
      "metadata": {
        "id": "view-in-github",
        "colab_type": "text"
      },
      "source": [
        "<a href=\"https://colab.research.google.com/github/Lucaschewitch/University/blob/main/Tasks/Module_7/3.ipynb\" target=\"_parent\"><img src=\"https://colab.research.google.com/assets/colab-badge.svg\" alt=\"Open In Colab\"/></a>"
      ]
    },
    {
      "cell_type": "code",
      "execution_count": 16,
      "metadata": {
        "id": "9qWZn20LcjbR",
        "outputId": "de159021-84ad-49a6-e4a9-d2c7e80c5b4a",
        "colab": {
          "base_uri": "https://localhost:8080/"
        }
      },
      "outputs": [
        {
          "output_type": "stream",
          "name": "stdout",
          "text": [
            "4\n",
            "hi hellow\n",
            "a b\n",
            "c d\n",
            "p o\n",
            "p\n",
            "o\n"
          ]
        }
      ],
      "source": [
        "d = {}\n",
        "i = int(input())\n",
        "for n in range(i):\n",
        "  s = input()\n",
        "  if d.get(s.split()[1]) != None:\n",
        "    d[s.split()[0]] = int(s.split()[1]) + d[s.split()[0]]\n",
        "  else:\n",
        "    d[s.split()[0]] = int(s.split()[1])\n",
        "print(d)"
      ]
    }
  ]
}