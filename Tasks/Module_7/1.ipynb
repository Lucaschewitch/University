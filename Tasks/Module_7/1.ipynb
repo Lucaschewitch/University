{
  "nbformat": 4,
  "nbformat_minor": 0,
  "metadata": {
    "colab": {
      "provenance": [],
      "authorship_tag": "ABX9TyOzPs49OEQddNqYHkO8v8r7",
      "include_colab_link": true
    },
    "kernelspec": {
      "name": "python3",
      "display_name": "Python 3"
    },
    "language_info": {
      "name": "python"
    }
  },
  "cells": [
    {
      "cell_type": "markdown",
      "metadata": {
        "id": "view-in-github",
        "colab_type": "text"
      },
      "source": [
        "<a href=\"https://colab.research.google.com/github/Lucaschewitch/University/blob/main/Tasks/Module_7/1.ipynb\" target=\"_parent\"><img src=\"https://colab.research.google.com/assets/colab-badge.svg\" alt=\"Open In Colab\"/></a>"
      ]
    },
    {
      "cell_type": "code",
      "execution_count": 14,
      "metadata": {
        "id": "9qWZn20LcjbR",
        "outputId": "8d657fbe-223f-48b0-abf6-4ed2e985e115",
        "colab": {
          "base_uri": "https://localhost:8080/"
        }
      },
      "outputs": [
        {
          "output_type": "stream",
          "name": "stdout",
          "text": [
            "one two one two three\n",
            "0 0 1 1 0\n"
          ]
        }
      ],
      "source": [
        "s = [i for i in input().split()]\n",
        "s1 = []\n",
        "for j in range(len(s)):\n",
        "  s1.append(s[0:j].count(s[j]))\n",
        "print(*s1)"
      ]
    }
  ]
}