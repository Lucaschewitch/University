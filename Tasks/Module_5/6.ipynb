{
  "nbformat": 4,
  "nbformat_minor": 0,
  "metadata": {
    "colab": {
      "provenance": [],
      "authorship_tag": "ABX9TyMf0ukNQNBEcgzO9m1DOffX",
      "include_colab_link": true
    },
    "kernelspec": {
      "name": "python3",
      "display_name": "Python 3"
    },
    "language_info": {
      "name": "python"
    }
  },
  "cells": [
    {
      "cell_type": "markdown",
      "metadata": {
        "id": "view-in-github",
        "colab_type": "text"
      },
      "source": [
        "<a href=\"https://colab.research.google.com/github/Lucaschewitch/University/blob/main/Tasks/Module_5/6.ipynb\" target=\"_parent\"><img src=\"https://colab.research.google.com/assets/colab-badge.svg\" alt=\"Open In Colab\"/></a>"
      ]
    },
    {
      "cell_type": "code",
      "execution_count": 10,
      "metadata": {
        "id": "9qWZn20LcjbR",
        "outputId": "2e66f82c-0a94-44d4-c32c-986ba8c0a785",
        "colab": {
          "base_uri": "https://localhost:8080/"
        }
      },
      "outputs": [
        {
          "output_type": "stream",
          "name": "stdout",
          "text": [
            "144\n",
            "12\n"
          ]
        }
      ],
      "source": [
        "from ast import Index\n",
        "n = int(input())\n",
        "fib = [0, 1, 1, 2, 3, 5, 8, 13, 21]\n",
        "for i in range(1000):\n",
        "  fib.append(fib[-1] + fib[-2])\n",
        "if n in fib:\n",
        "  m = fib.index(n)\n",
        "else:\n",
        "  m = -1\n",
        "print(m)"
      ]
    }
  ]
}