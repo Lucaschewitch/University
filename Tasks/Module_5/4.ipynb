{
  "nbformat": 4,
  "nbformat_minor": 0,
  "metadata": {
    "colab": {
      "provenance": [],
      "authorship_tag": "ABX9TyMQyjgyYNxG2uRf5ZvKFq2y",
      "include_colab_link": true
    },
    "kernelspec": {
      "name": "python3",
      "display_name": "Python 3"
    },
    "language_info": {
      "name": "python"
    }
  },
  "cells": [
    {
      "cell_type": "markdown",
      "metadata": {
        "id": "view-in-github",
        "colab_type": "text"
      },
      "source": [
        "<a href=\"https://colab.research.google.com/github/Lucaschewitch/University/blob/main/Tasks/Module_5/4.ipynb\" target=\"_parent\"><img src=\"https://colab.research.google.com/assets/colab-badge.svg\" alt=\"Open In Colab\"/></a>"
      ]
    },
    {
      "cell_type": "code",
      "execution_count": 8,
      "metadata": {
        "id": "9qWZn20LcjbR",
        "outputId": "fa32ab5d-5e71-4490-ead3-89552ff64157",
        "colab": {
          "base_uri": "https://localhost:8080/"
        }
      },
      "outputs": [
        {
          "output_type": "stream",
          "name": "stdout",
          "text": [
            "1\n",
            "2\n",
            "0\n",
            "1\n"
          ]
        }
      ],
      "source": [
        "k = 0\n",
        "cnt = []\n",
        "n = 1\n",
        "while n > 0:\n",
        "  c = int(input())\n",
        "  if c != 0:\n",
        "    cnt.append(c)\n",
        "  else:\n",
        "    break\n",
        "for i in range(len(cnt) - 1):\n",
        "  if cnt[i] < cnt[i + 1]:\n",
        "    k += 1\n",
        "print(k)"
      ]
    }
  ]
}