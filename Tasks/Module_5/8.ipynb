{
  "nbformat": 4,
  "nbformat_minor": 0,
  "metadata": {
    "colab": {
      "provenance": [],
      "authorship_tag": "ABX9TyNmeyOl4vQLcxCAM1pu4pIQ",
      "include_colab_link": true
    },
    "kernelspec": {
      "name": "python3",
      "display_name": "Python 3"
    },
    "language_info": {
      "name": "python"
    }
  },
  "cells": [
    {
      "cell_type": "markdown",
      "metadata": {
        "id": "view-in-github",
        "colab_type": "text"
      },
      "source": [
        "<a href=\"https://colab.research.google.com/github/Lucaschewitch/University/blob/main/Tasks/Module_5/8.ipynb\" target=\"_parent\"><img src=\"https://colab.research.google.com/assets/colab-badge.svg\" alt=\"Open In Colab\"/></a>"
      ]
    },
    {
      "cell_type": "code",
      "execution_count": 12,
      "metadata": {
        "id": "9qWZn20LcjbR",
        "outputId": "3827fda4-bde3-436e-cb87-713da53a80bc",
        "colab": {
          "base_uri": "https://localhost:8080/"
        }
      },
      "outputs": [
        {
          "output_type": "stream",
          "name": "stdout",
          "text": [
            "1\n",
            "1\n",
            "1\n",
            "1\n",
            "1\n",
            "2\n",
            "0\n",
            "5\n"
          ]
        }
      ],
      "source": [
        "n = 1\n",
        "s = []\n",
        "mx = 0\n",
        "cnt = 1\n",
        "while n != 0:\n",
        "  c = int(input())\n",
        "  if c != 0:\n",
        "    n = n\n",
        "  else:\n",
        "    n = 0\n",
        "  s.append(c)\n",
        "for i in range(len(s) - 1):\n",
        "  if s[i] == s[i+1]:\n",
        "    cnt += 1\n",
        "    mx = max(mx, cnt)\n",
        "  else:\n",
        "    cnt = 1\n",
        "print(mx)"
      ]
    }
  ]
}